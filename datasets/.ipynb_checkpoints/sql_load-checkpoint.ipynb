{
 "cells": [
  {
   "cell_type": "code",
   "execution_count": null,
   "id": "c781b03b-8bc3-4728-879a-63ec6c09fa57",
   "metadata": {},
   "outputs": [],
   "source": []
  }
 ],
 "metadata": {
  "kernelspec": {
   "display_name": "Python 3",
   "language": "python",
   "name": "python3"
  },
  "language_info": {
   "name": ""
  }
 },
 "nbformat": 4,
 "nbformat_minor": 5
}
